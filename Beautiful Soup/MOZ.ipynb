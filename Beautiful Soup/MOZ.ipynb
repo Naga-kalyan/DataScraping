{
 "cells": [
  {
   "cell_type": "code",
   "execution_count": 1,
   "metadata": {},
   "outputs": [
    {
     "data": {
      "text/html": [
       "<div>\n",
       "<style scoped>\n",
       "    .dataframe tbody tr th:only-of-type {\n",
       "        vertical-align: middle;\n",
       "    }\n",
       "\n",
       "    .dataframe tbody tr th {\n",
       "        vertical-align: top;\n",
       "    }\n",
       "\n",
       "    .dataframe thead th {\n",
       "        text-align: right;\n",
       "    }\n",
       "</style>\n",
       "<table border=\"1\" class=\"dataframe\">\n",
       "  <thead>\n",
       "    <tr style=\"text-align: right;\">\n",
       "      <th></th>\n",
       "      <th>Rank</th>\n",
       "      <th>Root Domain</th>\n",
       "      <th>Linking Root Domains</th>\n",
       "      <th>Domain Authority</th>\n",
       "    </tr>\n",
       "  </thead>\n",
       "  <tbody>\n",
       "    <tr>\n",
       "      <th>0</th>\n",
       "      <td>1</td>\n",
       "      <td>youtube.com</td>\n",
       "      <td>17,975,971</td>\n",
       "      <td>100</td>\n",
       "    </tr>\n",
       "    <tr>\n",
       "      <th>1</th>\n",
       "      <td>2</td>\n",
       "      <td>www.google.com</td>\n",
       "      <td>12,226,406</td>\n",
       "      <td>100</td>\n",
       "    </tr>\n",
       "    <tr>\n",
       "      <th>2</th>\n",
       "      <td>3</td>\n",
       "      <td>apple.com</td>\n",
       "      <td>4,556,396</td>\n",
       "      <td>100</td>\n",
       "    </tr>\n",
       "    <tr>\n",
       "      <th>3</th>\n",
       "      <td>4</td>\n",
       "      <td>microsoft.com</td>\n",
       "      <td>4,604,414</td>\n",
       "      <td>99</td>\n",
       "    </tr>\n",
       "    <tr>\n",
       "      <th>4</th>\n",
       "      <td>5</td>\n",
       "      <td>support.google.com</td>\n",
       "      <td>4,651,268</td>\n",
       "      <td>99</td>\n",
       "    </tr>\n",
       "  </tbody>\n",
       "</table>\n",
       "</div>"
      ],
      "text/plain": [
       "  Rank         Root Domain Linking Root Domains Domain Authority\n",
       "0    1         youtube.com           17,975,971              100\n",
       "1    2      www.google.com           12,226,406              100\n",
       "2    3           apple.com            4,556,396              100\n",
       "3    4       microsoft.com            4,604,414               99\n",
       "4    5  support.google.com            4,651,268               99"
      ]
     },
     "execution_count": 1,
     "metadata": {},
     "output_type": "execute_result"
    }
   ],
   "source": [
    "#### Importing all required libraries\n",
    "import requests\n",
    "import pandas as pd\n",
    "from bs4 import BeautifulSoup\n",
    "\n",
    "#### Requesting the server to get the content of the web page\n",
    "page = requests.get('https://moz.com/top500')\n",
    "\n",
    "#### Parsing the html\n",
    "soup=BeautifulSoup(page.content,'html.parser')\n",
    "\n",
    "#### Extracting table data using class name\n",
    "table = soup.find(class_='table table-responsive-md table-bordered table-zebra mb-5')\n",
    "\n",
    "#### Extracting table row elements into list\n",
    "result = table.find_all('tr')\n",
    "rank = []\n",
    "rootdomain = []\n",
    "linking = []\n",
    "authority = []\n",
    "for i in range(1,len(result)):\n",
    "    #### Extracting 'Rank' of the website\n",
    "    rank.append(result[i].find_all('td')[0].text)\n",
    "    #### Extracting 'Root Domain' of the website\n",
    "    rootdomain.append(result[i].find_all('td')[1].text)\n",
    "    #### Extracting 'Linking Root Domains' of the website\n",
    "    linking.append(result[i].find_all('td')[2].text)\n",
    "    #### Extracting 'Domain Authority' of the website\n",
    "    authority.append(result[i].find_all('td')[3].text)\n",
    "\n",
    "#### Converting all the extracted elements into dataframe\n",
    "moz = pd.DataFrame({'Rank':rank,'Root Domain':rootdomain,'Linking Root Domains':linking,'Domain Authority':authority})\n",
    "\n",
    "#### Printing top 5 rows of the data\n",
    "moz.head()"
   ]
  },
  {
   "cell_type": "code",
   "execution_count": 2,
   "metadata": {},
   "outputs": [],
   "source": [
    "#### Saving the data in to csv file\n",
    "moz.to_csv('moz.csv')"
   ]
  }
 ],
 "metadata": {
  "kernelspec": {
   "display_name": "Python 3",
   "language": "python",
   "name": "python3"
  },
  "language_info": {
   "codemirror_mode": {
    "name": "ipython",
    "version": 3
   },
   "file_extension": ".py",
   "mimetype": "text/x-python",
   "name": "python",
   "nbconvert_exporter": "python",
   "pygments_lexer": "ipython3",
   "version": "3.7.7"
  }
 },
 "nbformat": 4,
 "nbformat_minor": 4
}
