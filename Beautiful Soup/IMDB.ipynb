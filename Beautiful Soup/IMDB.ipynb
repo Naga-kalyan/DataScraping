{
 "cells": [
  {
   "cell_type": "code",
   "execution_count": 1,
   "metadata": {},
   "outputs": [],
   "source": [
    "#### Importing all required libraries\n",
    "import requests\n",
    "import pandas as pd\n",
    "from bs4 import BeautifulSoup\n",
    "\n",
    "#### Requesting the server to get the content of the web page\n",
    "page = requests.get('https://www.imdb.com/chart/top/')\n",
    "\n",
    "#### Parsing the html\n",
    "soup=BeautifulSoup(page.content,'html.parser')\n",
    "\n",
    "#### Extracting table data using class name\n",
    "table  = soup.find(class_='lister-list')\n",
    "\n",
    "#### Extracting table row elements into list\n",
    "movies = table.find_all('tr')\n",
    "list_movies = []\n",
    "for movie in movies:\n",
    "    dict_movie = {}\n",
    "    movie_td = movie.find_all('td')[1].text.split('\\n')\n",
    "    #### Extracting 'Rank' of the movie\n",
    "    dict_movie['Rank'] = int(movie_td[1].strip()[0])\n",
    "    #### Extracting 'Title' of the movie\n",
    "    dict_movie['Title'] = movie_td[2].strip()\n",
    "    #### Extracting 'Year' of the movie\n",
    "    dict_movie['Year'] = int(movie_td[3][1:-1])\n",
    "    #### Extracting 'Rating' of the movie\n",
    "    dict_movie['Rating'] = float(movies[0].find_all('td')[2].text[1:-1])\n",
    "    list_movies.append(dict_movie)\n",
    "\n",
    "#### Converting all the extracted elements into dataframe\n",
    "data_IMDB = pd.DataFrame(list_movies) \n",
    "\n",
    "#### Printing top 5 rows of the data\n",
    "data_IMDB.head()\n",
    "\n",
    "#### Saving the data in to csv file\n",
    "data_IMDB.to_csv('Imdb.csv')"
   ]
  }
 ],
 "metadata": {
  "kernelspec": {
   "display_name": "Python 3",
   "language": "python",
   "name": "python3"
  },
  "language_info": {
   "codemirror_mode": {
    "name": "ipython",
    "version": 3
   },
   "file_extension": ".py",
   "mimetype": "text/x-python",
   "name": "python",
   "nbconvert_exporter": "python",
   "pygments_lexer": "ipython3",
   "version": "3.7.7"
  }
 },
 "nbformat": 4,
 "nbformat_minor": 4
}
