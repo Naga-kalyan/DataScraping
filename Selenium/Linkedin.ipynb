{
 "cells": [
  {
   "cell_type": "code",
   "execution_count": 1,
   "metadata": {},
   "outputs": [
    {
     "name": "stderr",
     "output_type": "stream",
     "text": [
      "[WDM] - Current google-chrome version is 86.0.4240\n",
      "[WDM] - Get LATEST driver version for 86.0.4240\n",
      "[WDM] - Driver [C:\\Users\\subba\\.wdm\\drivers\\chromedriver\\win32\\86.0.4240.22\\chromedriver.exe] found in cache\n"
     ]
    },
    {
     "name": "stdout",
     "output_type": "stream",
     "text": [
      " \n"
     ]
    },
    {
     "data": {
      "text/html": [
       "<div>\n",
       "<style scoped>\n",
       "    .dataframe tbody tr th:only-of-type {\n",
       "        vertical-align: middle;\n",
       "    }\n",
       "\n",
       "    .dataframe tbody tr th {\n",
       "        vertical-align: top;\n",
       "    }\n",
       "\n",
       "    .dataframe thead th {\n",
       "        text-align: right;\n",
       "    }\n",
       "</style>\n",
       "<table border=\"1\" class=\"dataframe\">\n",
       "  <thead>\n",
       "    <tr style=\"text-align: right;\">\n",
       "      <th></th>\n",
       "      <th>Title</th>\n",
       "      <th>company</th>\n",
       "      <th>location</th>\n",
       "      <th>date</th>\n",
       "    </tr>\n",
       "  </thead>\n",
       "  <tbody>\n",
       "    <tr>\n",
       "      <th>0</th>\n",
       "      <td>Data Scientist</td>\n",
       "      <td>Jio</td>\n",
       "      <td>Hyderabad, Telangana, India</td>\n",
       "      <td>2020-10-27</td>\n",
       "    </tr>\n",
       "    <tr>\n",
       "      <th>1</th>\n",
       "      <td>Data Scientist - 1</td>\n",
       "      <td>Novartis India</td>\n",
       "      <td>Hyderabad, Telangana, India</td>\n",
       "      <td>2020-11-20</td>\n",
       "    </tr>\n",
       "    <tr>\n",
       "      <th>2</th>\n",
       "      <td>Full Time Data Science</td>\n",
       "      <td>Microsoft</td>\n",
       "      <td>Hyderabad, Telangana, India</td>\n",
       "      <td>2020-10-22</td>\n",
       "    </tr>\n",
       "    <tr>\n",
       "      <th>3</th>\n",
       "      <td>A&amp;C - Data Science - AI/ML</td>\n",
       "      <td>Deloitte India (Offices of the US)</td>\n",
       "      <td>Hyderabad, Telangana, India</td>\n",
       "      <td>2020-11-04</td>\n",
       "    </tr>\n",
       "    <tr>\n",
       "      <th>4</th>\n",
       "      <td>Data Science</td>\n",
       "      <td>Accenture in India</td>\n",
       "      <td>Hyderabad, Telangana, India</td>\n",
       "      <td>2020-11-20</td>\n",
       "    </tr>\n",
       "  </tbody>\n",
       "</table>\n",
       "</div>"
      ],
      "text/plain": [
       "                        Title                             company  \\\n",
       "0              Data Scientist                                 Jio   \n",
       "1          Data Scientist - 1                      Novartis India   \n",
       "2      Full Time Data Science                           Microsoft   \n",
       "3  A&C - Data Science - AI/ML  Deloitte India (Offices of the US)   \n",
       "4                Data Science                  Accenture in India   \n",
       "\n",
       "                      location        date  \n",
       "0  Hyderabad, Telangana, India  2020-10-27  \n",
       "1  Hyderabad, Telangana, India  2020-11-20  \n",
       "2  Hyderabad, Telangana, India  2020-10-22  \n",
       "3  Hyderabad, Telangana, India  2020-11-04  \n",
       "4  Hyderabad, Telangana, India  2020-11-20  "
      ]
     },
     "execution_count": 1,
     "metadata": {},
     "output_type": "execute_result"
    }
   ],
   "source": [
    "#### Importing all required libraries\n",
    "import pandas as pd\n",
    "from selenium import webdriver\n",
    "from webdriver_manager.chrome import ChromeDriverManager\n",
    "\n",
    "#### Installing chrome Driver based on current version \n",
    "#### And Create a new instance of google chrome\n",
    "browser = webdriver.Chrome(ChromeDriverManager().install())\n",
    "\n",
    "base_url = 'https://www.linkedin.com/jobs/search?keywords=Data%20Science&location=Hyderabad%2C%20Telangana%2C%20India&geoId=105556991&trk=public_jobs_jobs-search-bar_search-submit&redirect=false&position=1&pageNum='\n",
    "list_jobs = []\n",
    "for pageNo in range(0, 40):\n",
    "    #### Access google chrome and open Linkedin website\n",
    "    browser.get(base_url+str(pageNo*25))\n",
    "    #### Extracting table data using class name\n",
    "    soup = browser.find_elements_by_xpath((\".//div[@class='result-card__contents job-result-card__contents']\"))\n",
    "    for i in range(len(soup)):\n",
    "        dict_jobs = {}\n",
    "        \n",
    "        #### Extracting 'Title' of the job\n",
    "        dict_jobs[\"Title\"] = soup[i].find_element_by_xpath((\".//h3[@class='result-card__title job-result-card__title']\")).text\n",
    "        \n",
    "        #### Extracting Name of the 'Company'\n",
    "        dict_jobs[\"company\"] = soup[i].find_element_by_xpath((\".//h4[@class='result-card__subtitle job-result-card__subtitle']\")).text\n",
    "        \n",
    "        #### Extracting 'Location' of the jon\n",
    "        dict_jobs[\"location\"] = soup[i].find_element_by_xpath((\".//span[@class='job-result-card__location']\")).text\n",
    "        \n",
    "        #### Extracting 'date' of the job\n",
    "        dict_jobs[\"date\"] = soup[i].find_element_by_tag_name('time').get_attribute('datetime')\n",
    "        \n",
    "        list_jobs.append(dict_jobs)\n",
    "\n",
    "#### Closing chrome browser\n",
    "browser.close()\n",
    "\n",
    "#### Converting all the extracted elements into dataframe\n",
    "jobs_df = pd.DataFrame(list_jobs)\n",
    "\n",
    "#### Printing top 5 rows of the data\n",
    "jobs_df.head()"
   ]
  },
  {
   "cell_type": "code",
   "execution_count": 2,
   "metadata": {},
   "outputs": [],
   "source": [
    "#### Saving the data in to csv file\n",
    "jobs_df.to_csv('jobs.csv')"
   ]
  }
 ],
 "metadata": {
  "kernelspec": {
   "display_name": "Python 3",
   "language": "python",
   "name": "python3"
  },
  "language_info": {
   "codemirror_mode": {
    "name": "ipython",
    "version": 3
   },
   "file_extension": ".py",
   "mimetype": "text/x-python",
   "name": "python",
   "nbconvert_exporter": "python",
   "pygments_lexer": "ipython3",
   "version": "3.7.7"
  }
 },
 "nbformat": 4,
 "nbformat_minor": 4
}
