{
 "cells": [
  {
   "cell_type": "code",
   "execution_count": 1,
   "metadata": {},
   "outputs": [
    {
     "name": "stderr",
     "output_type": "stream",
     "text": [
      "[WDM] - Current google-chrome version is 86.0.4240\n",
      "[WDM] - Get LATEST driver version for 86.0.4240\n",
      "[WDM] - Driver [C:\\Users\\subba\\.wdm\\drivers\\chromedriver\\win32\\86.0.4240.22\\chromedriver.exe] found in cache\n"
     ]
    },
    {
     "name": "stdout",
     "output_type": "stream",
     "text": [
      " \n"
     ]
    },
    {
     "data": {
      "text/html": [
       "<div>\n",
       "<style scoped>\n",
       "    .dataframe tbody tr th:only-of-type {\n",
       "        vertical-align: middle;\n",
       "    }\n",
       "\n",
       "    .dataframe tbody tr th {\n",
       "        vertical-align: top;\n",
       "    }\n",
       "\n",
       "    .dataframe thead th {\n",
       "        text-align: right;\n",
       "    }\n",
       "</style>\n",
       "<table border=\"1\" class=\"dataframe\">\n",
       "  <thead>\n",
       "    <tr style=\"text-align: right;\">\n",
       "      <th></th>\n",
       "      <th>Rank</th>\n",
       "      <th>Title</th>\n",
       "      <th>Year</th>\n",
       "      <th>Rating</th>\n",
       "    </tr>\n",
       "  </thead>\n",
       "  <tbody>\n",
       "    <tr>\n",
       "      <th>0</th>\n",
       "      <td>1</td>\n",
       "      <td>The Shawshank Redemption</td>\n",
       "      <td>1994</td>\n",
       "      <td>9.2</td>\n",
       "    </tr>\n",
       "    <tr>\n",
       "      <th>1</th>\n",
       "      <td>2</td>\n",
       "      <td>The Godfather</td>\n",
       "      <td>1972</td>\n",
       "      <td>9.1</td>\n",
       "    </tr>\n",
       "    <tr>\n",
       "      <th>2</th>\n",
       "      <td>3</td>\n",
       "      <td>The Godfather: Part II</td>\n",
       "      <td>1974</td>\n",
       "      <td>9.0</td>\n",
       "    </tr>\n",
       "    <tr>\n",
       "      <th>3</th>\n",
       "      <td>4</td>\n",
       "      <td>The Dark Knight</td>\n",
       "      <td>2008</td>\n",
       "      <td>9.0</td>\n",
       "    </tr>\n",
       "    <tr>\n",
       "      <th>4</th>\n",
       "      <td>5</td>\n",
       "      <td>12 Angry Men</td>\n",
       "      <td>1957</td>\n",
       "      <td>8.9</td>\n",
       "    </tr>\n",
       "  </tbody>\n",
       "</table>\n",
       "</div>"
      ],
      "text/plain": [
       "   Rank                     Title  Year  Rating\n",
       "0     1  The Shawshank Redemption  1994     9.2\n",
       "1     2             The Godfather  1972     9.1\n",
       "2     3    The Godfather: Part II  1974     9.0\n",
       "3     4           The Dark Knight  2008     9.0\n",
       "4     5              12 Angry Men  1957     8.9"
      ]
     },
     "execution_count": 1,
     "metadata": {},
     "output_type": "execute_result"
    }
   ],
   "source": [
    "#### Importing all required libraries\n",
    "import pandas as pd\n",
    "from selenium import webdriver\n",
    "from webdriver_manager.chrome import ChromeDriverManager\n",
    "\n",
    "#### Installing chrome Driver based on current version \n",
    "#### And Create a new instance of google chrome\n",
    "browser = webdriver.Chrome(ChromeDriverManager().install())\n",
    "\n",
    "#### Access google chrome and open IMDB website\n",
    "browser.get('https://www.imdb.com/chart/top/')\n",
    "\n",
    "#### Extracting table data using class name\n",
    "table = browser.find_element_by_class_name('lister-list')\n",
    "\n",
    "#### Extracting table row elements into list\n",
    "movies = table.find_elements_by_tag_name('tr')\n",
    "list_movies = []\n",
    "for movie in movies:\n",
    "    dict_movie = {}\n",
    "    movie_list = movie.text.split()\n",
    "    #### Extracting 'Rank' of the movie\n",
    "    dict_movie['Rank'] = int(movie_list[0][0])\n",
    "    #### Extracting 'Title' of the movie\n",
    "    dict_movie['Title'] = ' '.join(movie_list[1:-2])\n",
    "    #### Extracting 'Year' of the movie\n",
    "    dict_movie['Year'] = int(movie_list[-2][1:-1])\n",
    "    #### Extracting 'Rating' of the movie\n",
    "    dict_movie['Rating'] = float(movie_list[-1])\n",
    "    list_movies.append(dict_movie)\n",
    "\n",
    "#### Closing chrome browser\n",
    "browser.close()   \n",
    "\n",
    "#### Converting all the extracted elements into dataframe\n",
    "data_IMDB = pd.DataFrame(list_movies) \n",
    "\n",
    "#### Printing top 5 rows of the data\n",
    "data_IMDB.head()"
   ]
  },
  {
   "cell_type": "code",
   "execution_count": 2,
   "metadata": {},
   "outputs": [],
   "source": [
    "#### Saving the data in to csv file\n",
    "data_IMDB.to_csv('Imdb.csv')"
   ]
  }
 ],
 "metadata": {
  "kernelspec": {
   "display_name": "Python 3",
   "language": "python",
   "name": "python3"
  },
  "language_info": {
   "codemirror_mode": {
    "name": "ipython",
    "version": 3
   },
   "file_extension": ".py",
   "mimetype": "text/x-python",
   "name": "python",
   "nbconvert_exporter": "python",
   "pygments_lexer": "ipython3",
   "version": "3.7.7"
  }
 },
 "nbformat": 4,
 "nbformat_minor": 4
}
